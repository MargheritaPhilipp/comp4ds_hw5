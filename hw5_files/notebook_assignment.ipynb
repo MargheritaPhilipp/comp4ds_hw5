{
 "cells": [
  {
   "cell_type": "markdown",
   "id": "7c9977f9",
   "metadata": {},
   "source": [
    "# Assignment 5: Python libraries, FP and exceptions"
   ]
  },
  {
   "cell_type": "markdown",
   "id": "ee76bd0b",
   "metadata": {},
   "source": [
    "### Authors: Daniela de los Santos & Margherita Philipp "
   ]
  },
  {
   "cell_type": "code",
   "execution_count": 37,
   "id": "1dd6c216",
   "metadata": {},
   "outputs": [
    {
     "name": "stdout",
     "output_type": "stream",
     "text": [
      "Clonando en 'comp4ds_hw5'...\n",
      "remote: Enumerating objects: 293, done.\u001b[K\n",
      "remote: Counting objects: 100% (159/159), done.\u001b[K\n",
      "remote: Compressing objects: 100% (121/121), done.\u001b[K\n",
      "remote: Total 293 (delta 57), reused 60 (delta 14), pack-reused 134\u001b[K\n",
      "Recibiendo objetos: 100% (293/293), 614.20 KiB | 1003.00 KiB/s, listo.\n",
      "Resolviendo deltas: 100% (118/118), listo.\n"
     ]
    }
   ],
   "source": [
    "!git clone https://github.com/MargheritaPhilipp/comp4ds_hw5"
   ]
  },
  {
   "cell_type": "code",
   "execution_count": 38,
   "id": "32a7ada1",
   "metadata": {},
   "outputs": [
    {
     "name": "stdout",
     "output_type": "stream",
     "text": [
      "Obtaining file:///home/danidlsa-u/Documentos/aplicacion%20library/comp4ds_hw5\n",
      "  Preparing metadata (setup.py) ... \u001b[?25ldone\n",
      "\u001b[?25hRequirement already satisfied: joblib in /home/danidlsa-u/Documentos/hw5/comp4ds_hw5/venv/lib/python3.9/site-packages (from hw5-library==0.1.0) (1.2.0)\n",
      "Requirement already satisfied: numpy>=1.20 in /home/danidlsa-u/Documentos/hw5/comp4ds_hw5/venv/lib/python3.9/site-packages (from hw5-library==0.1.0) (1.23.4)\n",
      "Requirement already satisfied: pandas in /home/danidlsa-u/Documentos/hw5/comp4ds_hw5/venv/lib/python3.9/site-packages (from hw5-library==0.1.0) (1.5.1)\n",
      "Requirement already satisfied: python-dateutil in /home/danidlsa-u/Documentos/hw5/comp4ds_hw5/venv/lib/python3.9/site-packages (from hw5-library==0.1.0) (2.8.2)\n",
      "Requirement already satisfied: pytz in /home/danidlsa-u/Documentos/hw5/comp4ds_hw5/venv/lib/python3.9/site-packages (from hw5-library==0.1.0) (2022.6)\n",
      "Requirement already satisfied: scikit-learn in /home/danidlsa-u/Documentos/hw5/comp4ds_hw5/venv/lib/python3.9/site-packages (from hw5-library==0.1.0) (1.1.3)\n",
      "Requirement already satisfied: scipy in /home/danidlsa-u/Documentos/hw5/comp4ds_hw5/venv/lib/python3.9/site-packages (from hw5-library==0.1.0) (1.9.3)\n",
      "Requirement already satisfied: six in /home/danidlsa-u/Documentos/hw5/comp4ds_hw5/venv/lib/python3.9/site-packages (from hw5-library==0.1.0) (1.16.0)\n",
      "Requirement already satisfied: threadpoolctl in /home/danidlsa-u/Documentos/hw5/comp4ds_hw5/venv/lib/python3.9/site-packages (from hw5-library==0.1.0) (3.1.0)\n",
      "Requirement already satisfied: geopy in /home/danidlsa-u/Documentos/hw5/comp4ds_hw5/venv/lib/python3.9/site-packages (from hw5-library==0.1.0) (2.3.0)\n",
      "Requirement already satisfied: geographiclib<3,>=1.52 in /home/danidlsa-u/Documentos/hw5/comp4ds_hw5/venv/lib/python3.9/site-packages (from geopy->hw5-library==0.1.0) (2.0)\n",
      "Installing collected packages: hw5-library\n",
      "  Running setup.py develop for hw5-library\n",
      "Successfully installed hw5-library-0.1.0\n",
      "\u001b[33mWARNING: You are using pip version 22.0.4; however, version 22.3.1 is available.\n",
      "You should consider upgrading via the '/home/danidlsa-u/Documentos/hw5/comp4ds_hw5/venv/bin/python3 -m pip install --upgrade pip' command.\u001b[0m\u001b[33m\n",
      "\u001b[0m"
     ]
    }
   ],
   "source": [
    "!pip install -e comp4ds_hw5"
   ]
  },
  {
   "cell_type": "code",
   "execution_count": 39,
   "id": "07966d8e",
   "metadata": {},
   "outputs": [],
   "source": [
    "from hw5_library.data_functions import data_functions as dfun"
   ]
  },
  {
   "cell_type": "markdown",
   "id": "9727eac9",
   "metadata": {},
   "source": [
    "# Data Analysis"
   ]
  },
  {
   "cell_type": "markdown",
   "id": "5e24225b",
   "metadata": {},
   "source": [
    "+ Load data"
   ]
  },
  {
   "cell_type": "code",
   "execution_count": 40,
   "id": "0d32cfd1",
   "metadata": {},
   "outputs": [
    {
     "data": {
      "text/html": [
       "<div>\n",
       "<style scoped>\n",
       "    .dataframe tbody tr th:only-of-type {\n",
       "        vertical-align: middle;\n",
       "    }\n",
       "\n",
       "    .dataframe tbody tr th {\n",
       "        vertical-align: top;\n",
       "    }\n",
       "\n",
       "    .dataframe thead th {\n",
       "        text-align: right;\n",
       "    }\n",
       "</style>\n",
       "<table border=\"1\" class=\"dataframe\">\n",
       "  <thead>\n",
       "    <tr style=\"text-align: right;\">\n",
       "      <th></th>\n",
       "      <th>Unnamed: 0</th>\n",
       "      <th>encounter_id</th>\n",
       "      <th>hospital_id</th>\n",
       "      <th>age</th>\n",
       "      <th>bmi</th>\n",
       "      <th>elective_surgery</th>\n",
       "      <th>ethnicity</th>\n",
       "      <th>gender</th>\n",
       "      <th>height</th>\n",
       "      <th>hospital_admit_source</th>\n",
       "      <th>...</th>\n",
       "      <th>ventilated_apache</th>\n",
       "      <th>wbc_apache</th>\n",
       "      <th>aids</th>\n",
       "      <th>cirrhosis</th>\n",
       "      <th>hepatic_failure</th>\n",
       "      <th>immunosuppression</th>\n",
       "      <th>leukemia</th>\n",
       "      <th>lymphoma</th>\n",
       "      <th>solid_tumor_with_metastasis</th>\n",
       "      <th>diabetes_mellitus</th>\n",
       "    </tr>\n",
       "  </thead>\n",
       "  <tbody>\n",
       "    <tr>\n",
       "      <th>0</th>\n",
       "      <td>0</td>\n",
       "      <td>214826</td>\n",
       "      <td>118</td>\n",
       "      <td>68.0</td>\n",
       "      <td>22.732803</td>\n",
       "      <td>0</td>\n",
       "      <td>Caucasian</td>\n",
       "      <td>M</td>\n",
       "      <td>180.3</td>\n",
       "      <td>Floor</td>\n",
       "      <td>...</td>\n",
       "      <td>0</td>\n",
       "      <td>14.1</td>\n",
       "      <td>0</td>\n",
       "      <td>0</td>\n",
       "      <td>0</td>\n",
       "      <td>0</td>\n",
       "      <td>0</td>\n",
       "      <td>0</td>\n",
       "      <td>0</td>\n",
       "      <td>1</td>\n",
       "    </tr>\n",
       "    <tr>\n",
       "      <th>1</th>\n",
       "      <td>1</td>\n",
       "      <td>246060</td>\n",
       "      <td>81</td>\n",
       "      <td>77.0</td>\n",
       "      <td>27.421875</td>\n",
       "      <td>0</td>\n",
       "      <td>Caucasian</td>\n",
       "      <td>F</td>\n",
       "      <td>160.0</td>\n",
       "      <td>Floor</td>\n",
       "      <td>...</td>\n",
       "      <td>1</td>\n",
       "      <td>12.7</td>\n",
       "      <td>0</td>\n",
       "      <td>0</td>\n",
       "      <td>0</td>\n",
       "      <td>0</td>\n",
       "      <td>0</td>\n",
       "      <td>0</td>\n",
       "      <td>0</td>\n",
       "      <td>1</td>\n",
       "    </tr>\n",
       "    <tr>\n",
       "      <th>2</th>\n",
       "      <td>2</td>\n",
       "      <td>276985</td>\n",
       "      <td>118</td>\n",
       "      <td>25.0</td>\n",
       "      <td>31.952749</td>\n",
       "      <td>0</td>\n",
       "      <td>Caucasian</td>\n",
       "      <td>F</td>\n",
       "      <td>172.7</td>\n",
       "      <td>Emergency Department</td>\n",
       "      <td>...</td>\n",
       "      <td>0</td>\n",
       "      <td>NaN</td>\n",
       "      <td>0</td>\n",
       "      <td>0</td>\n",
       "      <td>0</td>\n",
       "      <td>0</td>\n",
       "      <td>0</td>\n",
       "      <td>0</td>\n",
       "      <td>0</td>\n",
       "      <td>0</td>\n",
       "    </tr>\n",
       "    <tr>\n",
       "      <th>3</th>\n",
       "      <td>3</td>\n",
       "      <td>262220</td>\n",
       "      <td>118</td>\n",
       "      <td>81.0</td>\n",
       "      <td>22.635548</td>\n",
       "      <td>1</td>\n",
       "      <td>Caucasian</td>\n",
       "      <td>F</td>\n",
       "      <td>165.1</td>\n",
       "      <td>Operating Room</td>\n",
       "      <td>...</td>\n",
       "      <td>1</td>\n",
       "      <td>8.0</td>\n",
       "      <td>0</td>\n",
       "      <td>0</td>\n",
       "      <td>0</td>\n",
       "      <td>0</td>\n",
       "      <td>0</td>\n",
       "      <td>0</td>\n",
       "      <td>0</td>\n",
       "      <td>0</td>\n",
       "    </tr>\n",
       "    <tr>\n",
       "      <th>4</th>\n",
       "      <td>4</td>\n",
       "      <td>201746</td>\n",
       "      <td>33</td>\n",
       "      <td>19.0</td>\n",
       "      <td>NaN</td>\n",
       "      <td>0</td>\n",
       "      <td>Caucasian</td>\n",
       "      <td>M</td>\n",
       "      <td>188.0</td>\n",
       "      <td>NaN</td>\n",
       "      <td>...</td>\n",
       "      <td>0</td>\n",
       "      <td>NaN</td>\n",
       "      <td>0</td>\n",
       "      <td>0</td>\n",
       "      <td>0</td>\n",
       "      <td>0</td>\n",
       "      <td>0</td>\n",
       "      <td>0</td>\n",
       "      <td>0</td>\n",
       "      <td>0</td>\n",
       "    </tr>\n",
       "  </tbody>\n",
       "</table>\n",
       "<p>5 rows × 53 columns</p>\n",
       "</div>"
      ],
      "text/plain": [
       "   Unnamed: 0  encounter_id  hospital_id   age        bmi  elective_surgery  \\\n",
       "0           0        214826          118  68.0  22.732803                 0   \n",
       "1           1        246060           81  77.0  27.421875                 0   \n",
       "2           2        276985          118  25.0  31.952749                 0   \n",
       "3           3        262220          118  81.0  22.635548                 1   \n",
       "4           4        201746           33  19.0        NaN                 0   \n",
       "\n",
       "   ethnicity gender  height hospital_admit_source  ... ventilated_apache  \\\n",
       "0  Caucasian      M   180.3                 Floor  ...                 0   \n",
       "1  Caucasian      F   160.0                 Floor  ...                 1   \n",
       "2  Caucasian      F   172.7  Emergency Department  ...                 0   \n",
       "3  Caucasian      F   165.1        Operating Room  ...                 1   \n",
       "4  Caucasian      M   188.0                   NaN  ...                 0   \n",
       "\n",
       "   wbc_apache aids cirrhosis  hepatic_failure  immunosuppression  leukemia  \\\n",
       "0        14.1    0         0                0                  0         0   \n",
       "1        12.7    0         0                0                  0         0   \n",
       "2         NaN    0         0                0                  0         0   \n",
       "3         8.0    0         0                0                  0         0   \n",
       "4         NaN    0         0                0                  0         0   \n",
       "\n",
       "   lymphoma  solid_tumor_with_metastasis  diabetes_mellitus  \n",
       "0         0                            0                  1  \n",
       "1         0                            0                  1  \n",
       "2         0                            0                  0  \n",
       "3         0                            0                  0  \n",
       "4         0                            0                  0  \n",
       "\n",
       "[5 rows x 53 columns]"
      ]
     },
     "execution_count": 40,
     "metadata": {},
     "output_type": "execute_result"
    }
   ],
   "source": [
    "data = dfun.diabetes_data()\n",
    "data.head()"
   ]
  },
  {
   "cell_type": "markdown",
   "id": "0f602a25",
   "metadata": {},
   "source": [
    "+ Remove those rows that contain NaN values in the columns: age, gender, ethnicity."
   ]
  },
  {
   "cell_type": "code",
   "execution_count": 41,
   "id": "fa018a91",
   "metadata": {},
   "outputs": [
    {
     "name": "stdout",
     "output_type": "stream",
     "text": [
      "0\n",
      "0\n",
      "0\n"
     ]
    }
   ],
   "source": [
    "data_copy = data.copy()\n",
    "\n",
    "vars_to_drop = ['age','gender', 'ethnicity']\n",
    "\n",
    "data_copy= dfun.drop_selected_nans(vars_to_drop, data_copy)\n",
    "\n",
    "for i in vars_to_drop:\n",
    "    print(data_copy[i].isna().sum())\n"
   ]
  },
  {
   "cell_type": "markdown",
   "id": "5b3dd1d4",
   "metadata": {},
   "source": [
    "+ Fill NaN with the mean value of the column in the columns: height, weight.\n"
   ]
  },
  {
   "cell_type": "code",
   "execution_count": 42,
   "id": "7c54b040",
   "metadata": {},
   "outputs": [
    {
     "name": "stdout",
     "output_type": "stream",
     "text": [
      "0\n",
      "0\n"
     ]
    }
   ],
   "source": [
    "vars_to_replace=['height', 'weight']\n",
    "\n",
    "data_copy = dfun.fill_nans(vars_to_replace, data_copy)\n",
    "\n",
    "for i in vars_to_replace:\n",
    "    print(data_copy[i].isna().sum())\n"
   ]
  },
  {
   "cell_type": "markdown",
   "id": "16a4c766",
   "metadata": {},
   "source": [
    "Generate dummies for ethnicity column (One hot encoding).\n"
   ]
  },
  {
   "cell_type": "code",
   "execution_count": 43,
   "id": "302833e0",
   "metadata": {},
   "outputs": [
    {
     "data": {
      "text/html": [
       "<div>\n",
       "<style scoped>\n",
       "    .dataframe tbody tr th:only-of-type {\n",
       "        vertical-align: middle;\n",
       "    }\n",
       "\n",
       "    .dataframe tbody tr th {\n",
       "        vertical-align: top;\n",
       "    }\n",
       "\n",
       "    .dataframe thead th {\n",
       "        text-align: right;\n",
       "    }\n",
       "</style>\n",
       "<table border=\"1\" class=\"dataframe\">\n",
       "  <thead>\n",
       "    <tr style=\"text-align: right;\">\n",
       "      <th></th>\n",
       "      <th>Unnamed: 0</th>\n",
       "      <th>encounter_id</th>\n",
       "      <th>hospital_id</th>\n",
       "      <th>age</th>\n",
       "      <th>bmi</th>\n",
       "      <th>elective_surgery</th>\n",
       "      <th>ethnicity</th>\n",
       "      <th>gender</th>\n",
       "      <th>height</th>\n",
       "      <th>hospital_admit_source</th>\n",
       "      <th>...</th>\n",
       "      <th>immunosuppression</th>\n",
       "      <th>leukemia</th>\n",
       "      <th>lymphoma</th>\n",
       "      <th>solid_tumor_with_metastasis</th>\n",
       "      <th>diabetes_mellitus</th>\n",
       "      <th>Asian</th>\n",
       "      <th>Caucasian</th>\n",
       "      <th>Hispanic</th>\n",
       "      <th>Native American</th>\n",
       "      <th>Other/Unknown</th>\n",
       "    </tr>\n",
       "  </thead>\n",
       "  <tbody>\n",
       "    <tr>\n",
       "      <th>0</th>\n",
       "      <td>0</td>\n",
       "      <td>214826</td>\n",
       "      <td>118</td>\n",
       "      <td>68.0</td>\n",
       "      <td>22.732803</td>\n",
       "      <td>0</td>\n",
       "      <td>Caucasian</td>\n",
       "      <td>M</td>\n",
       "      <td>180.3</td>\n",
       "      <td>Floor</td>\n",
       "      <td>...</td>\n",
       "      <td>0</td>\n",
       "      <td>0</td>\n",
       "      <td>0</td>\n",
       "      <td>0</td>\n",
       "      <td>1</td>\n",
       "      <td>0</td>\n",
       "      <td>1</td>\n",
       "      <td>0</td>\n",
       "      <td>0</td>\n",
       "      <td>0</td>\n",
       "    </tr>\n",
       "    <tr>\n",
       "      <th>1</th>\n",
       "      <td>1</td>\n",
       "      <td>246060</td>\n",
       "      <td>81</td>\n",
       "      <td>77.0</td>\n",
       "      <td>27.421875</td>\n",
       "      <td>0</td>\n",
       "      <td>Caucasian</td>\n",
       "      <td>F</td>\n",
       "      <td>160.0</td>\n",
       "      <td>Floor</td>\n",
       "      <td>...</td>\n",
       "      <td>0</td>\n",
       "      <td>0</td>\n",
       "      <td>0</td>\n",
       "      <td>0</td>\n",
       "      <td>1</td>\n",
       "      <td>0</td>\n",
       "      <td>1</td>\n",
       "      <td>0</td>\n",
       "      <td>0</td>\n",
       "      <td>0</td>\n",
       "    </tr>\n",
       "    <tr>\n",
       "      <th>2</th>\n",
       "      <td>2</td>\n",
       "      <td>276985</td>\n",
       "      <td>118</td>\n",
       "      <td>25.0</td>\n",
       "      <td>31.952749</td>\n",
       "      <td>0</td>\n",
       "      <td>Caucasian</td>\n",
       "      <td>F</td>\n",
       "      <td>172.7</td>\n",
       "      <td>Emergency Department</td>\n",
       "      <td>...</td>\n",
       "      <td>0</td>\n",
       "      <td>0</td>\n",
       "      <td>0</td>\n",
       "      <td>0</td>\n",
       "      <td>0</td>\n",
       "      <td>0</td>\n",
       "      <td>1</td>\n",
       "      <td>0</td>\n",
       "      <td>0</td>\n",
       "      <td>0</td>\n",
       "    </tr>\n",
       "    <tr>\n",
       "      <th>3</th>\n",
       "      <td>3</td>\n",
       "      <td>262220</td>\n",
       "      <td>118</td>\n",
       "      <td>81.0</td>\n",
       "      <td>22.635548</td>\n",
       "      <td>1</td>\n",
       "      <td>Caucasian</td>\n",
       "      <td>F</td>\n",
       "      <td>165.1</td>\n",
       "      <td>Operating Room</td>\n",
       "      <td>...</td>\n",
       "      <td>0</td>\n",
       "      <td>0</td>\n",
       "      <td>0</td>\n",
       "      <td>0</td>\n",
       "      <td>0</td>\n",
       "      <td>0</td>\n",
       "      <td>1</td>\n",
       "      <td>0</td>\n",
       "      <td>0</td>\n",
       "      <td>0</td>\n",
       "    </tr>\n",
       "    <tr>\n",
       "      <th>4</th>\n",
       "      <td>4</td>\n",
       "      <td>201746</td>\n",
       "      <td>33</td>\n",
       "      <td>19.0</td>\n",
       "      <td>NaN</td>\n",
       "      <td>0</td>\n",
       "      <td>Caucasian</td>\n",
       "      <td>M</td>\n",
       "      <td>188.0</td>\n",
       "      <td>NaN</td>\n",
       "      <td>...</td>\n",
       "      <td>0</td>\n",
       "      <td>0</td>\n",
       "      <td>0</td>\n",
       "      <td>0</td>\n",
       "      <td>0</td>\n",
       "      <td>0</td>\n",
       "      <td>1</td>\n",
       "      <td>0</td>\n",
       "      <td>0</td>\n",
       "      <td>0</td>\n",
       "    </tr>\n",
       "  </tbody>\n",
       "</table>\n",
       "<p>5 rows × 58 columns</p>\n",
       "</div>"
      ],
      "text/plain": [
       "   Unnamed: 0  encounter_id  hospital_id   age        bmi  elective_surgery  \\\n",
       "0           0        214826          118  68.0  22.732803                 0   \n",
       "1           1        246060           81  77.0  27.421875                 0   \n",
       "2           2        276985          118  25.0  31.952749                 0   \n",
       "3           3        262220          118  81.0  22.635548                 1   \n",
       "4           4        201746           33  19.0        NaN                 0   \n",
       "\n",
       "   ethnicity gender  height hospital_admit_source  ... immunosuppression  \\\n",
       "0  Caucasian      M   180.3                 Floor  ...                 0   \n",
       "1  Caucasian      F   160.0                 Floor  ...                 0   \n",
       "2  Caucasian      F   172.7  Emergency Department  ...                 0   \n",
       "3  Caucasian      F   165.1        Operating Room  ...                 0   \n",
       "4  Caucasian      M   188.0                   NaN  ...                 0   \n",
       "\n",
       "   leukemia lymphoma solid_tumor_with_metastasis  diabetes_mellitus  Asian  \\\n",
       "0         0        0                           0                  1      0   \n",
       "1         0        0                           0                  1      0   \n",
       "2         0        0                           0                  0      0   \n",
       "3         0        0                           0                  0      0   \n",
       "4         0        0                           0                  0      0   \n",
       "\n",
       "   Caucasian  Hispanic  Native American  Other/Unknown  \n",
       "0          1         0                0              0  \n",
       "1          1         0                0              0  \n",
       "2          1         0                0              0  \n",
       "3          1         0                0              0  \n",
       "4          1         0                0              0  \n",
       "\n",
       "[5 rows x 58 columns]"
      ]
     },
     "execution_count": 43,
     "metadata": {},
     "output_type": "execute_result"
    }
   ],
   "source": [
    "data_copy = dfun.one_hot_enc(data_copy, \"ethnicity\")\n",
    "data_copy.head()"
   ]
  },
  {
   "cell_type": "markdown",
   "id": "9a27a900",
   "metadata": {},
   "source": [
    "Create a binary variable for gender M/F."
   ]
  },
  {
   "cell_type": "code",
   "execution_count": 44,
   "id": "532e8bbb",
   "metadata": {},
   "outputs": [
    {
     "data": {
      "text/html": [
       "<div>\n",
       "<style scoped>\n",
       "    .dataframe tbody tr th:only-of-type {\n",
       "        vertical-align: middle;\n",
       "    }\n",
       "\n",
       "    .dataframe tbody tr th {\n",
       "        vertical-align: top;\n",
       "    }\n",
       "\n",
       "    .dataframe thead th {\n",
       "        text-align: right;\n",
       "    }\n",
       "</style>\n",
       "<table border=\"1\" class=\"dataframe\">\n",
       "  <thead>\n",
       "    <tr style=\"text-align: right;\">\n",
       "      <th></th>\n",
       "      <th>Unnamed: 0</th>\n",
       "      <th>encounter_id</th>\n",
       "      <th>hospital_id</th>\n",
       "      <th>age</th>\n",
       "      <th>bmi</th>\n",
       "      <th>elective_surgery</th>\n",
       "      <th>ethnicity</th>\n",
       "      <th>gender</th>\n",
       "      <th>height</th>\n",
       "      <th>hospital_admit_source</th>\n",
       "      <th>...</th>\n",
       "      <th>leukemia</th>\n",
       "      <th>lymphoma</th>\n",
       "      <th>solid_tumor_with_metastasis</th>\n",
       "      <th>diabetes_mellitus</th>\n",
       "      <th>Asian</th>\n",
       "      <th>Caucasian</th>\n",
       "      <th>Hispanic</th>\n",
       "      <th>Native American</th>\n",
       "      <th>Other/Unknown</th>\n",
       "      <th>male</th>\n",
       "    </tr>\n",
       "  </thead>\n",
       "  <tbody>\n",
       "    <tr>\n",
       "      <th>0</th>\n",
       "      <td>0</td>\n",
       "      <td>214826</td>\n",
       "      <td>118</td>\n",
       "      <td>68.0</td>\n",
       "      <td>22.732803</td>\n",
       "      <td>0</td>\n",
       "      <td>Caucasian</td>\n",
       "      <td>M</td>\n",
       "      <td>180.3</td>\n",
       "      <td>Floor</td>\n",
       "      <td>...</td>\n",
       "      <td>0</td>\n",
       "      <td>0</td>\n",
       "      <td>0</td>\n",
       "      <td>1</td>\n",
       "      <td>0</td>\n",
       "      <td>1</td>\n",
       "      <td>0</td>\n",
       "      <td>0</td>\n",
       "      <td>0</td>\n",
       "      <td>1</td>\n",
       "    </tr>\n",
       "    <tr>\n",
       "      <th>1</th>\n",
       "      <td>1</td>\n",
       "      <td>246060</td>\n",
       "      <td>81</td>\n",
       "      <td>77.0</td>\n",
       "      <td>27.421875</td>\n",
       "      <td>0</td>\n",
       "      <td>Caucasian</td>\n",
       "      <td>F</td>\n",
       "      <td>160.0</td>\n",
       "      <td>Floor</td>\n",
       "      <td>...</td>\n",
       "      <td>0</td>\n",
       "      <td>0</td>\n",
       "      <td>0</td>\n",
       "      <td>1</td>\n",
       "      <td>0</td>\n",
       "      <td>1</td>\n",
       "      <td>0</td>\n",
       "      <td>0</td>\n",
       "      <td>0</td>\n",
       "      <td>0</td>\n",
       "    </tr>\n",
       "    <tr>\n",
       "      <th>2</th>\n",
       "      <td>2</td>\n",
       "      <td>276985</td>\n",
       "      <td>118</td>\n",
       "      <td>25.0</td>\n",
       "      <td>31.952749</td>\n",
       "      <td>0</td>\n",
       "      <td>Caucasian</td>\n",
       "      <td>F</td>\n",
       "      <td>172.7</td>\n",
       "      <td>Emergency Department</td>\n",
       "      <td>...</td>\n",
       "      <td>0</td>\n",
       "      <td>0</td>\n",
       "      <td>0</td>\n",
       "      <td>0</td>\n",
       "      <td>0</td>\n",
       "      <td>1</td>\n",
       "      <td>0</td>\n",
       "      <td>0</td>\n",
       "      <td>0</td>\n",
       "      <td>0</td>\n",
       "    </tr>\n",
       "    <tr>\n",
       "      <th>3</th>\n",
       "      <td>3</td>\n",
       "      <td>262220</td>\n",
       "      <td>118</td>\n",
       "      <td>81.0</td>\n",
       "      <td>22.635548</td>\n",
       "      <td>1</td>\n",
       "      <td>Caucasian</td>\n",
       "      <td>F</td>\n",
       "      <td>165.1</td>\n",
       "      <td>Operating Room</td>\n",
       "      <td>...</td>\n",
       "      <td>0</td>\n",
       "      <td>0</td>\n",
       "      <td>0</td>\n",
       "      <td>0</td>\n",
       "      <td>0</td>\n",
       "      <td>1</td>\n",
       "      <td>0</td>\n",
       "      <td>0</td>\n",
       "      <td>0</td>\n",
       "      <td>0</td>\n",
       "    </tr>\n",
       "    <tr>\n",
       "      <th>4</th>\n",
       "      <td>4</td>\n",
       "      <td>201746</td>\n",
       "      <td>33</td>\n",
       "      <td>19.0</td>\n",
       "      <td>NaN</td>\n",
       "      <td>0</td>\n",
       "      <td>Caucasian</td>\n",
       "      <td>M</td>\n",
       "      <td>188.0</td>\n",
       "      <td>NaN</td>\n",
       "      <td>...</td>\n",
       "      <td>0</td>\n",
       "      <td>0</td>\n",
       "      <td>0</td>\n",
       "      <td>0</td>\n",
       "      <td>0</td>\n",
       "      <td>1</td>\n",
       "      <td>0</td>\n",
       "      <td>0</td>\n",
       "      <td>0</td>\n",
       "      <td>1</td>\n",
       "    </tr>\n",
       "  </tbody>\n",
       "</table>\n",
       "<p>5 rows × 59 columns</p>\n",
       "</div>"
      ],
      "text/plain": [
       "   Unnamed: 0  encounter_id  hospital_id   age        bmi  elective_surgery  \\\n",
       "0           0        214826          118  68.0  22.732803                 0   \n",
       "1           1        246060           81  77.0  27.421875                 0   \n",
       "2           2        276985          118  25.0  31.952749                 0   \n",
       "3           3        262220          118  81.0  22.635548                 1   \n",
       "4           4        201746           33  19.0        NaN                 0   \n",
       "\n",
       "   ethnicity gender  height hospital_admit_source  ... leukemia  lymphoma  \\\n",
       "0  Caucasian      M   180.3                 Floor  ...        0         0   \n",
       "1  Caucasian      F   160.0                 Floor  ...        0         0   \n",
       "2  Caucasian      F   172.7  Emergency Department  ...        0         0   \n",
       "3  Caucasian      F   165.1        Operating Room  ...        0         0   \n",
       "4  Caucasian      M   188.0                   NaN  ...        0         0   \n",
       "\n",
       "  solid_tumor_with_metastasis diabetes_mellitus  Asian  Caucasian  Hispanic  \\\n",
       "0                           0                 1      0          1         0   \n",
       "1                           0                 1      0          1         0   \n",
       "2                           0                 0      0          1         0   \n",
       "3                           0                 0      0          1         0   \n",
       "4                           0                 0      0          1         0   \n",
       "\n",
       "   Native American  Other/Unknown  male  \n",
       "0                0              0     1  \n",
       "1                0              0     0  \n",
       "2                0              0     0  \n",
       "3                0              0     0  \n",
       "4                0              0     1  \n",
       "\n",
       "[5 rows x 59 columns]"
      ]
     },
     "execution_count": 44,
     "metadata": {},
     "output_type": "execute_result"
    }
   ],
   "source": [
    "data_copy = dfun.create_binary(data_copy, \"gender\", \"male\")\n",
    "data_copy.head()"
   ]
  },
  {
   "cell_type": "markdown",
   "id": "1747d3e5",
   "metadata": {},
   "source": [
    "### Training the model\n",
    "\n",
    "Split the data between train and test. (you can use train_test_split from sklearn or any other way)\n"
   ]
  },
  {
   "cell_type": "code",
   "execution_count": 45,
   "id": "5a219a81",
   "metadata": {},
   "outputs": [],
   "source": [
    "features = ['age','height','weight','aids','cirrhosis', 'hepatic_failure', 'immunosuppression', 'leukemia', 'lymphoma', 'solid_tumor_with_metastasis']\n",
    "\n",
    "X, y = dfun.select_features_target(data_copy, features, \"diabetes_mellitus\")\n",
    "\n",
    "X_train, X_test, y_train, y_test = dfun.training(X, y)\n"
   ]
  },
  {
   "cell_type": "markdown",
   "id": "9b208242",
   "metadata": {},
   "source": [
    "Train a model (for instance LogisticRegression or RandomForestClassifier from sklearn) in the\n",
    "train data. Use as features the columns: ‘age’, ‘height’, ‘weight’, ‘aids’, ‘cirrhosis’, ‘hepatic_failure’,\n",
    "‘immunosuppression’, ‘leukemia’, ‘lymphoma’, ‘solid_tumor_with_metastasis’. Use as target the\n",
    "column: ‘diabetes_mellitus’\n"
   ]
  },
  {
   "cell_type": "code",
   "execution_count": 46,
   "id": "68592b22",
   "metadata": {},
   "outputs": [],
   "source": [
    "X_train_s, X_test_s = dfun.scale_function(X_train, X_test) # scaling\n",
    "\n",
    "clf = dfun.regressor(X_train_s, y_train, \"diabetes_mellitus\") # running logistic regression\n"
   ]
  },
  {
   "cell_type": "markdown",
   "id": "d3ee8d4d",
   "metadata": {},
   "source": [
    "Predict the targets for both the train and test sets and add the prediction as a new column (use predict_proba from the model to get the predicted probabilities) name the new column something like predictions.\n"
   ]
  },
  {
   "cell_type": "code",
   "execution_count": 47,
   "id": "69b16f0c",
   "metadata": {},
   "outputs": [
    {
     "data": {
      "text/html": [
       "<div>\n",
       "<style scoped>\n",
       "    .dataframe tbody tr th:only-of-type {\n",
       "        vertical-align: middle;\n",
       "    }\n",
       "\n",
       "    .dataframe tbody tr th {\n",
       "        vertical-align: top;\n",
       "    }\n",
       "\n",
       "    .dataframe thead th {\n",
       "        text-align: right;\n",
       "    }\n",
       "</style>\n",
       "<table border=\"1\" class=\"dataframe\">\n",
       "  <thead>\n",
       "    <tr style=\"text-align: right;\">\n",
       "      <th></th>\n",
       "      <th>age</th>\n",
       "      <th>height</th>\n",
       "      <th>weight</th>\n",
       "      <th>aids</th>\n",
       "      <th>cirrhosis</th>\n",
       "      <th>hepatic_failure</th>\n",
       "      <th>immunosuppression</th>\n",
       "      <th>leukemia</th>\n",
       "      <th>lymphoma</th>\n",
       "      <th>solid_tumor_with_metastasis</th>\n",
       "      <th>predictions</th>\n",
       "    </tr>\n",
       "  </thead>\n",
       "  <tbody>\n",
       "    <tr>\n",
       "      <th>7090</th>\n",
       "      <td>72.0</td>\n",
       "      <td>177.8</td>\n",
       "      <td>100.4</td>\n",
       "      <td>0</td>\n",
       "      <td>0</td>\n",
       "      <td>0</td>\n",
       "      <td>0</td>\n",
       "      <td>0</td>\n",
       "      <td>0</td>\n",
       "      <td>0</td>\n",
       "      <td>0.231136</td>\n",
       "    </tr>\n",
       "    <tr>\n",
       "      <th>7260</th>\n",
       "      <td>81.0</td>\n",
       "      <td>165.1</td>\n",
       "      <td>90.7</td>\n",
       "      <td>0</td>\n",
       "      <td>0</td>\n",
       "      <td>0</td>\n",
       "      <td>0</td>\n",
       "      <td>0</td>\n",
       "      <td>0</td>\n",
       "      <td>0</td>\n",
       "      <td>0.230403</td>\n",
       "    </tr>\n",
       "    <tr>\n",
       "      <th>3687</th>\n",
       "      <td>62.0</td>\n",
       "      <td>162.6</td>\n",
       "      <td>76.6</td>\n",
       "      <td>0</td>\n",
       "      <td>0</td>\n",
       "      <td>0</td>\n",
       "      <td>0</td>\n",
       "      <td>0</td>\n",
       "      <td>0</td>\n",
       "      <td>0</td>\n",
       "      <td>0.100566</td>\n",
       "    </tr>\n",
       "    <tr>\n",
       "      <th>2875</th>\n",
       "      <td>64.0</td>\n",
       "      <td>185.4</td>\n",
       "      <td>98.6</td>\n",
       "      <td>0</td>\n",
       "      <td>0</td>\n",
       "      <td>0</td>\n",
       "      <td>0</td>\n",
       "      <td>0</td>\n",
       "      <td>0</td>\n",
       "      <td>0</td>\n",
       "      <td>0.388922</td>\n",
       "    </tr>\n",
       "    <tr>\n",
       "      <th>7374</th>\n",
       "      <td>67.0</td>\n",
       "      <td>175.3</td>\n",
       "      <td>105.0</td>\n",
       "      <td>0</td>\n",
       "      <td>0</td>\n",
       "      <td>0</td>\n",
       "      <td>0</td>\n",
       "      <td>0</td>\n",
       "      <td>0</td>\n",
       "      <td>0</td>\n",
       "      <td>0.140259</td>\n",
       "    </tr>\n",
       "  </tbody>\n",
       "</table>\n",
       "</div>"
      ],
      "text/plain": [
       "       age  height  weight  aids  cirrhosis  hepatic_failure  \\\n",
       "7090  72.0   177.8   100.4     0          0                0   \n",
       "7260  81.0   165.1    90.7     0          0                0   \n",
       "3687  62.0   162.6    76.6     0          0                0   \n",
       "2875  64.0   185.4    98.6     0          0                0   \n",
       "7374  67.0   175.3   105.0     0          0                0   \n",
       "\n",
       "      immunosuppression  leukemia  lymphoma  solid_tumor_with_metastasis  \\\n",
       "7090                  0         0         0                            0   \n",
       "7260                  0         0         0                            0   \n",
       "3687                  0         0         0                            0   \n",
       "2875                  0         0         0                            0   \n",
       "7374                  0         0         0                            0   \n",
       "\n",
       "      predictions  \n",
       "7090     0.231136  \n",
       "7260     0.230403  \n",
       "3687     0.100566  \n",
       "2875     0.388922  \n",
       "7374     0.140259  "
      ]
     },
     "execution_count": 47,
     "metadata": {},
     "output_type": "execute_result"
    }
   ],
   "source": [
    "predict_train, predict_test = dfun.predict_from_regression(clf, X_train_s, X_test_s, X_train, X_test)\n",
    "X_train.head()"
   ]
  },
  {
   "cell_type": "markdown",
   "id": "1b93adf7",
   "metadata": {},
   "source": [
    "Compute the train and test roc_auc metric using roc_auc_score from sklearn..\n"
   ]
  },
  {
   "cell_type": "code",
   "execution_count": 48,
   "id": "6025cfb3",
   "metadata": {},
   "outputs": [
    {
     "name": "stdout",
     "output_type": "stream",
     "text": [
      "ROC Score for the train set: 0.6703574025465543\n",
      "ROC Score for the test set 0.6726604993589983\n"
     ]
    }
   ],
   "source": [
    "print(\"ROC Score for the train set: \" + str(dfun.roc(y_train, X_train_s, clf))) # ROC Score for the train set\n",
    "\n",
    "print(\"ROC Score for the test set \" + str(dfun.roc(y_test, X_test_s, clf))) # ROC Score for the test set\n"
   ]
  },
  {
   "cell_type": "markdown",
   "id": "06c5179b",
   "metadata": {},
   "source": [
    "# Test functions written for assignment\n",
    "The actual functions are located in the library folders denoted below. We have also kept the entire python file in the \"hw5 files\" folder - it contains additional versions of a couple of functions."
   ]
  },
  {
   "cell_type": "code",
   "execution_count": 60,
   "id": "90b96176",
   "metadata": {},
   "outputs": [],
   "source": [
    "from hw5_library.hw5_functions.simplefuns import * #contains  car_at_light, safe_subtract and read_data\n",
    "from hw5_library.hw5_functions.dictionaries import * #contains retrieve_age_eafp2 and retrieve_age_lbyl\n",
    "from hw5_library.hw5_functions import lists as ls # not importing all functions here, so will be called with lists."
   ]
  },
  {
   "cell_type": "markdown",
   "id": "aacfe810",
   "metadata": {},
   "source": [
    "**Question 1)**\n",
    "Create a function called \"car_at_light\"\n",
    "It should take one parameter: \"light\" which gives the color of a traffic light.\n",
    "If the color is \"red\", the function should return \"stop\". If the color is \"green\", the function should return \"go\". If the color is \"yellow\" the function should return \"wait\". If the color is anything else, the function should raise an exception with the following message: \"Undefined instruction for color: <light>\" where <light> is the value of the parameter light."
   ]
  },
  {
   "cell_type": "code",
   "execution_count": 61,
   "id": "a0b3d806",
   "metadata": {},
   "outputs": [
    {
     "name": "stdout",
     "output_type": "stream",
     "text": [
      "stop\n",
      "wait\n",
      "go\n",
      "Undefined instruction for color: silver\n"
     ]
    }
   ],
   "source": [
    "car_at_light(\"red\")\n",
    "car_at_light(\"yellow\")\n",
    "car_at_light(\"green\")\n",
    "car_at_light(\"silver\")"
   ]
  },
  {
   "cell_type": "markdown",
   "id": "3b328311",
   "metadata": {},
   "source": [
    "**Question 2)** Create a function named \"safe_subtract\" that takes two parameters and returns the result of the second value subtracted from the first. If the values cannot be subtracted due to its type, it returns None. If there is any other reason why it fails show the problem."
   ]
  },
  {
   "cell_type": "code",
   "execution_count": 51,
   "id": "2eaf22ff",
   "metadata": {},
   "outputs": [
    {
     "name": "stdout",
     "output_type": "stream",
     "text": [
      "3\n",
      "None\n"
     ]
    },
    {
     "ename": "NameError",
     "evalue": "name 'a' is not defined",
     "output_type": "error",
     "traceback": [
      "\u001b[0;31m---------------------------------------------------------------------------\u001b[0m",
      "\u001b[0;31mNameError\u001b[0m                                 Traceback (most recent call last)",
      "\u001b[0;32m/tmp/ipykernel_5982/2375188323.py\u001b[0m in \u001b[0;36m<module>\u001b[0;34m\u001b[0m\n\u001b[1;32m      1\u001b[0m \u001b[0mprint\u001b[0m\u001b[0;34m(\u001b[0m\u001b[0msafe_subtract\u001b[0m\u001b[0;34m(\u001b[0m\u001b[0;36m5\u001b[0m\u001b[0;34m,\u001b[0m\u001b[0;36m2\u001b[0m\u001b[0;34m)\u001b[0m\u001b[0;34m)\u001b[0m\u001b[0;34m\u001b[0m\u001b[0;34m\u001b[0m\u001b[0m\n\u001b[1;32m      2\u001b[0m \u001b[0mprint\u001b[0m\u001b[0;34m(\u001b[0m\u001b[0msafe_subtract\u001b[0m\u001b[0;34m(\u001b[0m\u001b[0;36m5\u001b[0m\u001b[0;34m,\u001b[0m\u001b[0;34m\"2\"\u001b[0m\u001b[0;34m)\u001b[0m\u001b[0;34m)\u001b[0m\u001b[0;34m\u001b[0m\u001b[0;34m\u001b[0m\u001b[0m\n\u001b[0;32m----> 3\u001b[0;31m \u001b[0mprint\u001b[0m\u001b[0;34m(\u001b[0m\u001b[0msafe_subtract\u001b[0m\u001b[0;34m(\u001b[0m\u001b[0;36m5\u001b[0m\u001b[0;34m,\u001b[0m\u001b[0ma\u001b[0m\u001b[0;34m)\u001b[0m\u001b[0;34m)\u001b[0m\u001b[0;34m\u001b[0m\u001b[0;34m\u001b[0m\u001b[0m\n\u001b[0m",
      "\u001b[0;31mNameError\u001b[0m: name 'a' is not defined"
     ]
    }
   ],
   "source": [
    "print(safe_subtract(5,2))\n",
    "print(safe_subtract(5,\"2\"))\n",
    "print(safe_subtract(5,a))"
   ]
  },
  {
   "cell_type": "markdown",
   "id": "a497f158",
   "metadata": {},
   "source": [
    "**Question 3)** Imagine you have a dictionary with the attributes of a person <br>\n",
    "{'name': 'John', 'last_name': 'Doe', 'birth': 1987} <br>\n",
    "{'name': 'Janet', 'last_name': 'Bird', 'gender': 'female'}\n",
    "\n",
    "Create two functions that returns the age of the person that handles both examples.\n",
    "Name the first function \"retrieve_age_eafp\" and follow EAFP\n",
    "Name the second function \"retrieve_age_lbyl\" and follow lbyl"
   ]
  },
  {
   "cell_type": "code",
   "execution_count": 62,
   "id": "366493c8",
   "metadata": {},
   "outputs": [
    {
     "name": "stdout",
     "output_type": "stream",
     "text": [
      "35\n",
      "There is no key called birth in this dictionary\n",
      "The value under birth is not a float or an integer\n"
     ]
    }
   ],
   "source": [
    "dic1= {'name': 'John', 'last_name': 'Doe', 'birth': 1987}\n",
    "dic2= {'name': 'Janet', 'last_name': 'Bird', 'gender': 'female'}\n",
    "dic3= {'name': 'Janet', 'last_name': 'Bird', 'birth': '1984'}\n",
    "\n",
    "retrieve_age_lbyl(dic1)    \n",
    "retrieve_age_lbyl(dic2)\n",
    "retrieve_age_lbyl(dic3)"
   ]
  },
  {
   "cell_type": "code",
   "execution_count": 63,
   "id": "1e6b421a",
   "metadata": {},
   "outputs": [
    {
     "name": "stdout",
     "output_type": "stream",
     "text": [
      "35\n",
      "There is no key called birth in this dictionary\n",
      "The value under birth is not a float or an integer\n"
     ]
    }
   ],
   "source": [
    "retrieve_age_eafp2(dic1)\n",
    "retrieve_age_eafp2(dic2)\n",
    "retrieve_age_eafp2(dic3)"
   ]
  },
  {
   "cell_type": "markdown",
   "id": "fc9d8833",
   "metadata": {},
   "source": [
    "**Question 4)** Imagine you have a file named data.csv. <br>\n",
    "Create a function called \"read_data\" that reads the file making sure to use to handle the fact that it might not exist."
   ]
  },
  {
   "cell_type": "code",
   "execution_count": 64,
   "id": "8468effb",
   "metadata": {},
   "outputs": [
    {
     "data": {
      "text/plain": [
       "'The file data.csv is not in the directory you have specified.'"
      ]
     },
     "execution_count": 64,
     "metadata": {},
     "output_type": "execute_result"
    }
   ],
   "source": [
    "#NB we had included the sample_diabetes_mellitus_data.csv in our working directory to check if it imports\n",
    "\n",
    "test1 = \"sample_diabetes_mellitus_data.csv\"\n",
    "test2 = \"data.csv\"\n",
    "\n",
    "read_data(test1)\n",
    "read_data(test2)"
   ]
  },
  {
   "cell_type": "markdown",
   "id": "fdbf7d80",
   "metadata": {},
   "source": [
    "**Question 5)** Squash some bugs! Find the possible logical errors (bugs) in the code blocks below. Comment in each of them which logical errors did you find and correct them."
   ]
  },
  {
   "cell_type": "code",
   "execution_count": 55,
   "id": "cf64c25a",
   "metadata": {},
   "outputs": [
    {
     "data": {
      "text/plain": [
       "17"
      ]
     },
     "execution_count": 55,
     "metadata": {},
     "output_type": "execute_result"
    }
   ],
   "source": [
    "### (a)\n",
    "total_double_sum = 0\n",
    "for elem in [10, 5, 2]:\n",
    "    double = elem * 2\n",
    "    total_double_sum += elem\n",
    "\n",
    "total_double_sum"
   ]
  },
  {
   "cell_type": "code",
   "execution_count": 56,
   "id": "057731c9",
   "metadata": {},
   "outputs": [
    {
     "data": {
      "text/plain": [
       "34"
      ]
     },
     "execution_count": 56,
     "metadata": {},
     "output_type": "execute_result"
    }
   ],
   "source": [
    "# comments on a:\n",
    "# returns 17, and indeed only the elements have been summed\n",
    "# presumably we want to double each element and find total, so 20+10+4=34\n",
    "# correction:\n",
    "total_double_sum2 = 0\n",
    "for elem in [10, 5, 2]:\n",
    "    double = elem * 2\n",
    "    total_double_sum2 += double\n",
    "total_double_sum2"
   ]
  },
  {
   "cell_type": "code",
   "execution_count": 57,
   "id": "55ef7c64",
   "metadata": {},
   "outputs": [
    {
     "data": {
      "text/plain": [
       "'Groot_Groot'"
      ]
     },
     "execution_count": 57,
     "metadata": {},
     "output_type": "execute_result"
    }
   ],
   "source": [
    "### (b)\n",
    "strings = ''\n",
    "for string in ['I', 'am', 'Groot']:\n",
    "    strings = string+\"_\"+string\n",
    "\n",
    "strings"
   ]
  },
  {
   "cell_type": "code",
   "execution_count": 58,
   "id": "1cfe12f1",
   "metadata": {},
   "outputs": [
    {
     "data": {
      "text/plain": [
       "'I am Groot '"
      ]
     },
     "execution_count": 58,
     "metadata": {},
     "output_type": "execute_result"
    }
   ],
   "source": [
    "# comments on b:\n",
    "#returns 'Groot_Groot'\n",
    "#presumably the desired output is \"I am Groot\"?\n",
    "# correction:\n",
    "strings2 = ''\n",
    "for string in ['I', 'am', 'Groot']:\n",
    "    strings2 += string+\" \"\n",
    "strings2"
   ]
  },
  {
   "cell_type": "code",
   "execution_count": null,
   "id": "05876d35",
   "metadata": {},
   "outputs": [],
   "source": [
    "### (c) Careful!\n",
    "# j=10\n",
    "# while j > 0:\n",
    "#   j += 1"
   ]
  },
  {
   "cell_type": "code",
   "execution_count": null,
   "id": "44a51d02",
   "metadata": {},
   "outputs": [],
   "source": [
    "# comments on c: not tried to run, but this would keep running as j is always > 0\n",
    "# correction such that it stops when adding 1:\n",
    "\n",
    "k=10\n",
    "while k < 20:\n",
    "   k += 1        #equivalent:  k = k+1\n",
    "k"
   ]
  },
  {
   "cell_type": "code",
   "execution_count": null,
   "id": "b73a7991",
   "metadata": {},
   "outputs": [],
   "source": [
    "# correction such that it stops when subtracting 1:\n",
    "\n",
    "l=10\n",
    "while l > 0:\n",
    "   l -= 1        #equivalent:  l = l-1\n",
    "l"
   ]
  },
  {
   "cell_type": "code",
   "execution_count": null,
   "id": "70364daa",
   "metadata": {},
   "outputs": [],
   "source": [
    "### (d)\n",
    "productory = 0\n",
    "for elem in [1, 5, 25]:\n",
    "    productory *= elem\n",
    "    \n",
    "productory"
   ]
  },
  {
   "cell_type": "code",
   "execution_count": null,
   "id": "fd5c5bda",
   "metadata": {},
   "outputs": [],
   "source": [
    "# comments on d:\n",
    "productory\n",
    "# returns 0 - presumably because it is first multiplying by productory, so 0\n",
    "# presumably what we want it a product of all numbers in the list: 1*5*25=125\n",
    "# correction:\n",
    "productory2 = 1\n",
    "for elem in [1, 5, 25]:\n",
    "    productory2 *= elem\n",
    "productory2"
   ]
  },
  {
   "cell_type": "markdown",
   "id": "68d98fa0",
   "metadata": {},
   "source": [
    "### Try to use map and reduce in the next 3 exercises\n",
    "**Question 6)** Create a function called \"count_simba\" that counts the number of times that Simba appears in a list of strings. Example: <br>\n",
    "[\"Simba and Nala are lions.\", \"I laugh in the face of danger.\", \"Hakuna matata\", \"Timon, Pumba and Simba are friends, but Simba could eat the other two.\"] "
   ]
  },
  {
   "cell_type": "code",
   "execution_count": 66,
   "id": "a72f7963",
   "metadata": {},
   "outputs": [
    {
     "name": "stdout",
     "output_type": "stream",
     "text": [
      "3\n"
     ]
    },
    {
     "data": {
      "text/plain": [
       "3"
      ]
     },
     "execution_count": 66,
     "metadata": {},
     "output_type": "execute_result"
    }
   ],
   "source": [
    "list_strings= [\"Simba and Nala are lions.\",\n",
    "               \"I laugh in the face of danger.\",\n",
    "               \"Hakuna matata\", \"Timon, Pumba and Simba are friends, but Simba could eat the other two.\"] \n",
    "\n",
    "ls.simba_test\n",
    "\n",
    "print(ls.simba_count(list_strings))\n",
    "ls.simba_count(ls.simba_test)"
   ]
  },
  {
   "cell_type": "markdown",
   "id": "b916dbbd",
   "metadata": {},
   "source": [
    "**Question7)** Create a function called \"get_day_month_year\" that takes a list of datetimes.date and returns a pandas dataframe, with 3 columns (day, month, year) in which each of the rows, is an element of the input list and has as value its day, month, and year."
   ]
  },
  {
   "cell_type": "code",
   "execution_count": 71,
   "id": "52203334",
   "metadata": {},
   "outputs": [
    {
     "name": "stdout",
     "output_type": "stream",
     "text": [
      "   day  month  year\n",
      "0   20     11  2022\n",
      "1   19     11  2022\n",
      "2   18     11  2022\n",
      "3   17     11  2022\n",
      "4   16     11  2022\n"
     ]
    },
    {
     "data": {
      "text/html": [
       "<div>\n",
       "<style scoped>\n",
       "    .dataframe tbody tr th:only-of-type {\n",
       "        vertical-align: middle;\n",
       "    }\n",
       "\n",
       "    .dataframe tbody tr th {\n",
       "        vertical-align: top;\n",
       "    }\n",
       "\n",
       "    .dataframe thead th {\n",
       "        text-align: right;\n",
       "    }\n",
       "</style>\n",
       "<table border=\"1\" class=\"dataframe\">\n",
       "  <thead>\n",
       "    <tr style=\"text-align: right;\">\n",
       "      <th></th>\n",
       "      <th>day</th>\n",
       "      <th>month</th>\n",
       "      <th>year</th>\n",
       "    </tr>\n",
       "  </thead>\n",
       "  <tbody>\n",
       "    <tr>\n",
       "      <th>0</th>\n",
       "      <td>20</td>\n",
       "      <td>11</td>\n",
       "      <td>2022</td>\n",
       "    </tr>\n",
       "    <tr>\n",
       "      <th>1</th>\n",
       "      <td>19</td>\n",
       "      <td>11</td>\n",
       "      <td>2022</td>\n",
       "    </tr>\n",
       "    <tr>\n",
       "      <th>2</th>\n",
       "      <td>18</td>\n",
       "      <td>11</td>\n",
       "      <td>2022</td>\n",
       "    </tr>\n",
       "    <tr>\n",
       "      <th>3</th>\n",
       "      <td>17</td>\n",
       "      <td>11</td>\n",
       "      <td>2022</td>\n",
       "    </tr>\n",
       "    <tr>\n",
       "      <th>4</th>\n",
       "      <td>16</td>\n",
       "      <td>11</td>\n",
       "      <td>2022</td>\n",
       "    </tr>\n",
       "  </tbody>\n",
       "</table>\n",
       "</div>"
      ],
      "text/plain": [
       "   day  month  year\n",
       "0   20     11  2022\n",
       "1   19     11  2022\n",
       "2   18     11  2022\n",
       "3   17     11  2022\n",
       "4   16     11  2022"
      ]
     },
     "execution_count": 71,
     "metadata": {},
     "output_type": "execute_result"
    }
   ],
   "source": [
    "import datetime\n",
    "\n",
    "example = [datetime.datetime.today() - datetime.timedelta(days=x) for x in range(5)]\n",
    "\n",
    "ls.test_get_month_data\n",
    "\n",
    "print(ls.get_day_month_year(example)) \n",
    "ls.get_day_month_year(ls.test_get_month_data) "
   ]
  },
  {
   "cell_type": "markdown",
   "id": "230c3e50",
   "metadata": {},
   "source": [
    "**Question 8)** Create a function called \"compute_distance\" that takes a list of tuple pairs with latitude and longitude coordinates and returns a list with the distance between the two pairs example input: [((41.23,23.5), (41.5, 23.4)), ((52.38, 20.1),(52.3, 17.8))] <br>\n",
    "HINT: You can use geopy.distance in order to compute the distance"
   ]
  },
  {
   "cell_type": "code",
   "execution_count": 73,
   "id": "4106c344",
   "metadata": {},
   "outputs": [
    {
     "name": "stdout",
     "output_type": "stream",
     "text": [
      "[31.13186522205169, 157.005827868894]\n"
     ]
    },
    {
     "data": {
      "text/plain": [
       "[31.13186522205169, 157.005827868894]"
      ]
     },
     "execution_count": 73,
     "metadata": {},
     "output_type": "execute_result"
    }
   ],
   "source": [
    "input_example=[((41.23,23.5), (41.5, 23.4)), ((52.38, 20.1),(52.3, 17.8))]\n",
    "\n",
    "ls.test_compute_distance\n",
    "\n",
    "print(ls.compute_distance(input_example))\n",
    "ls.compute_distance(ls.test_compute_distance)"
   ]
  },
  {
   "cell_type": "markdown",
   "id": "ad00d01f",
   "metadata": {},
   "source": [
    "**Question 9)** Consider a list that each element can be an integer or a list that contains integers or more lists with integers example: [[2], 4, 5, [1, [2], [3, 5, [7,8]], 10], 1]. \n",
    "\n",
    "Create a recursive function called \"sum_general_int_list\" that takes as input this type of list and returns the sum of all the integers within the lists for instance for list_1=[[2], 3, [[1,2],5]] the result should be 13."
   ]
  },
  {
   "cell_type": "code",
   "execution_count": 74,
   "id": "b6d74e45",
   "metadata": {},
   "outputs": [
    {
     "name": "stdout",
     "output_type": "stream",
     "text": [
      "13\n"
     ]
    }
   ],
   "source": [
    "list_1=[[2], 3, [[1,2],5]]  \n",
    "\n",
    "ls.test_sum_general_int_list\n",
    "\n",
    "print(ls.sum_general_int_list(list_1))  \n"
   ]
  }
 ],
 "metadata": {
  "kernelspec": {
   "display_name": "Python 3 (ipykernel)",
   "language": "python",
   "name": "python3"
  },
  "language_info": {
   "codemirror_mode": {
    "name": "ipython",
    "version": 3
   },
   "file_extension": ".py",
   "mimetype": "text/x-python",
   "name": "python",
   "nbconvert_exporter": "python",
   "pygments_lexer": "ipython3",
   "version": "3.9.13"
  }
 },
 "nbformat": 4,
 "nbformat_minor": 5
}
