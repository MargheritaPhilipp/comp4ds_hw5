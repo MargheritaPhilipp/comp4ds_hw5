{
 "cells": [
  {
   "cell_type": "markdown",
   "metadata": {},
   "source": [
    "Importing relevant parts of the library"
   ]
  },
  {
   "cell_type": "code",
   "execution_count": 1,
   "metadata": {},
   "outputs": [
    {
     "name": "stdout",
     "output_type": "stream",
     "text": [
      "/Users/MargheritaP/Documents/GitHub/comp4ds_hw5/hw5 files\r\n"
     ]
    }
   ],
   "source": [
    "#check your current working directory\n",
    "#(e.g. /Users/MargheritaP/Desktop OR /Users/MargheritaP/Documents/GitHub/comp4ds_hw5/hw5 files)\n",
    "!pwd "
   ]
  },
  {
   "cell_type": "code",
   "execution_count": 2,
   "metadata": {},
   "outputs": [
    {
     "name": "stdout",
     "output_type": "stream",
     "text": [
      "Cloning into 'comp4ds_hw5'...\n",
      "remote: Enumerating objects: 32, done.\u001b[K\n",
      "remote: Counting objects: 100% (32/32), done.\u001b[K\n",
      "remote: Compressing objects: 100% (27/27), done.\u001b[K\n",
      "remote: Total 32 (delta 6), reused 11 (delta 0), pack-reused 0\u001b[K\n",
      "Unpacking objects: 100% (32/32), done.\n"
     ]
    }
   ],
   "source": [
    "#!git clone\n",
    "!git clone https://github.com/MargheritaPhilipp/comp4ds_hw5.git --depth=3"
   ]
  },
  {
   "cell_type": "code",
   "execution_count": 4,
   "metadata": {},
   "outputs": [
    {
     "name": "stdout",
     "output_type": "stream",
     "text": [
      "Error initializing plugin EntryPoint('windows', 'keyring.backends.Windows', None, Distribution('keyring', '13.2.1-py3.7')).\n",
      "Traceback (most recent call last):\n",
      "  File \"/anaconda3/lib/python3.7/site-packages/cffi/cparser.py\", line 276, in _parse\n",
      "    ast = _get_parser().parse(fullcsource)\n",
      "  File \"/anaconda3/lib/python3.7/site-packages/pycparser/c_parser.py\", line 152, in parse\n",
      "    debug=debuglevel)\n",
      "  File \"/anaconda3/lib/python3.7/site-packages/pycparser/ply/yacc.py\", line 331, in parse\n",
      "    return self.parseopt_notrack(input, lexer, debug, tracking, tokenfunc)\n",
      "  File \"/anaconda3/lib/python3.7/site-packages/pycparser/ply/yacc.py\", line 1199, in parseopt_notrack\n",
      "    tok = call_errorfunc(self.errorfunc, errtoken, self)\n",
      "  File \"/anaconda3/lib/python3.7/site-packages/pycparser/ply/yacc.py\", line 193, in call_errorfunc\n",
      "    r = errorfunc(token)\n",
      "  File \"/anaconda3/lib/python3.7/site-packages/pycparser/c_parser.py\", line 1761, in p_error\n",
      "    column=self.clex.find_tok_column(p)))\n",
      "  File \"/anaconda3/lib/python3.7/site-packages/pycparser/plyparser.py\", line 66, in _parse_error\n",
      "    raise ParseError(\"%s: %s\" % (coord, msg))\n",
      "pycparser.plyparser.ParseError: <cdef source string>:3:70: before: HANDLE\n",
      "\n",
      "During handling of the above exception, another exception occurred:\n",
      "\n",
      "Traceback (most recent call last):\n",
      "  File \"/anaconda3/lib/python3.7/site-packages/keyring/backend.py\", line 154, in _load_plugins\n",
      "    init_func = ep.load()\n",
      "  File \"/anaconda3/lib/python3.7/site-packages/entrypoints.py\", line 77, in load\n",
      "    mod = import_module(self.module_name)\n",
      "  File \"/anaconda3/lib/python3.7/importlib/__init__.py\", line 127, in import_module\n",
      "    return _bootstrap._gcd_import(name[level:], package, level)\n",
      "  File \"<frozen importlib._bootstrap>\", line 1006, in _gcd_import\n",
      "  File \"<frozen importlib._bootstrap>\", line 983, in _find_and_load\n",
      "  File \"<frozen importlib._bootstrap>\", line 967, in _find_and_load_unlocked\n",
      "  File \"<frozen importlib._bootstrap>\", line 677, in _load_unlocked\n",
      "  File \"<frozen importlib._bootstrap_external>\", line 728, in exec_module\n",
      "  File \"<frozen importlib._bootstrap>\", line 219, in _call_with_frames_removed\n",
      "  File \"/anaconda3/lib/python3.7/site-packages/keyring/backends/Windows.py\", line 12, in <module>\n",
      "    from win32ctypes.pywin32 import pywintypes\n",
      "  File \"/anaconda3/lib/python3.7/site-packages/win32ctypes/pywin32/__init__.py\", line 11, in <module>\n",
      "    from win32ctypes.pywin32 import win32api\n",
      "  File \"/anaconda3/lib/python3.7/site-packages/win32ctypes/pywin32/win32api.py\", line 12, in <module>\n",
      "    from win32ctypes.core import (\n",
      "  File \"<frozen importlib._bootstrap>\", line 983, in _find_and_load\n",
      "  File \"<frozen importlib._bootstrap>\", line 967, in _find_and_load_unlocked\n",
      "  File \"<frozen importlib._bootstrap>\", line 668, in _load_unlocked\n",
      "  File \"<frozen importlib._bootstrap>\", line 638, in _load_backward_compatible\n",
      "  File \"/anaconda3/lib/python3.7/site-packages/win32ctypes/core/__init__.py\", line 36, in load_module\n",
      "    module = importlib.import_module(self.redirect_module)\n",
      "  File \"/anaconda3/lib/python3.7/importlib/__init__.py\", line 127, in import_module\n",
      "    return _bootstrap._gcd_import(name[level:], package, level)\n",
      "  File \"/anaconda3/lib/python3.7/site-packages/win32ctypes/core/cffi/_dll.py\", line 19, in <module>\n",
      "    \"\"\")\n",
      "  File \"/anaconda3/lib/python3.7/site-packages/cffi/api.py\", line 107, in cdef\n",
      "    self._cdef(csource, override=override, packed=packed)\n",
      "  File \"/anaconda3/lib/python3.7/site-packages/cffi/api.py\", line 121, in _cdef\n",
      "    self._parser.parse(csource, override=override, **options)\n",
      "  File \"/anaconda3/lib/python3.7/site-packages/cffi/cparser.py\", line 315, in parse\n",
      "    self._internal_parse(csource)\n",
      "  File \"/anaconda3/lib/python3.7/site-packages/cffi/cparser.py\", line 320, in _internal_parse\n",
      "    ast, macros, csource = self._parse(csource)\n",
      "  File \"/anaconda3/lib/python3.7/site-packages/cffi/cparser.py\", line 278, in _parse\n",
      "    self.convert_pycparser_error(e, csource)\n",
      "  File \"/anaconda3/lib/python3.7/site-packages/cffi/cparser.py\", line 307, in convert_pycparser_error\n",
      "    raise CDefError(msg)\n",
      "cffi.error.CDefError: cannot parse \"HMODULE  volatile volatile const  LoadLibraryExW(LPCTSTR lpFileName, HANDLE hFile, DWORD dwFlags);\"\n",
      "<cdef source string>:3:70: before: HANDLE\n",
      "\u001b[31mERROR: Invalid requirement: 'files/comp4ds_hw5'\n",
      "Hint: It looks like a path. File 'files/comp4ds_hw5' does not exist.\u001b[0m\u001b[31m\n",
      "\u001b[0m"
     ]
    }
   ],
   "source": [
    "#install from the cloned git folder\n",
    "#(need to specify if not in root folder, e.g. for me it searched for Users/MargheritaP/comp4ds_hw5)\n",
    "!pip install -e ~/Documents/GitHub/comp4ds_hw5/hw5 files/comp4ds_hw5"
   ]
  },
  {
   "cell_type": "markdown",
   "metadata": {},
   "source": [
    "# Conduct data analysis"
   ]
  },
  {
   "cell_type": "code",
   "execution_count": 4,
   "metadata": {},
   "outputs": [
    {
     "ename": "ModuleNotFoundError",
     "evalue": "No module named 'hw5_library'",
     "output_type": "error",
     "traceback": [
      "\u001b[0;31m---------------------------------------------------------------------------\u001b[0m",
      "\u001b[0;31mModuleNotFoundError\u001b[0m                       Traceback (most recent call last)",
      "\u001b[0;32m<ipython-input-4-72c902069ae3>\u001b[0m in \u001b[0;36m<module>\u001b[0;34m()\u001b[0m\n\u001b[1;32m      1\u001b[0m \u001b[0;31m#import relevant packages from libraries\u001b[0m\u001b[0;34m\u001b[0m\u001b[0;34m\u001b[0m\u001b[0;34m\u001b[0m\u001b[0m\n\u001b[1;32m      2\u001b[0m \u001b[0;34m\u001b[0m\u001b[0m\n\u001b[0;32m----> 3\u001b[0;31m \u001b[0;32mfrom\u001b[0m \u001b[0mhw5_library\u001b[0m \u001b[0;32mimport\u001b[0m \u001b[0mdata_functions\u001b[0m\u001b[0;34m\u001b[0m\u001b[0;34m\u001b[0m\u001b[0m\n\u001b[0m",
      "\u001b[0;31mModuleNotFoundError\u001b[0m: No module named 'hw5_library'"
     ]
    }
   ],
   "source": [
    "#import relevant packages from libraries\n",
    "\n",
    "from hw5_library import data_functions"
   ]
  },
  {
   "cell_type": "code",
   "execution_count": null,
   "metadata": {},
   "outputs": [],
   "source": []
  },
  {
   "cell_type": "code",
   "execution_count": null,
   "metadata": {},
   "outputs": [],
   "source": []
  },
  {
   "cell_type": "code",
   "execution_count": null,
   "metadata": {},
   "outputs": [],
   "source": []
  },
  {
   "cell_type": "markdown",
   "metadata": {},
   "source": [
    "# Test functions written for assignment\n",
    "The actual functions are located in the library folders denoted below. We have also kept the entire python file in the \"hw5 files\" folder - it contains additional versions of a couple of functions."
   ]
  },
  {
   "cell_type": "code",
   "execution_count": 6,
   "metadata": {},
   "outputs": [
    {
     "ename": "ModuleNotFoundError",
     "evalue": "No module named 'hw5_library'",
     "output_type": "error",
     "traceback": [
      "\u001b[0;31m---------------------------------------------------------------------------\u001b[0m",
      "\u001b[0;31mModuleNotFoundError\u001b[0m                       Traceback (most recent call last)",
      "\u001b[0;32m<ipython-input-6-4a31d55f9cda>\u001b[0m in \u001b[0;36m<module>\u001b[0;34m()\u001b[0m\n\u001b[0;32m----> 1\u001b[0;31m \u001b[0;32mfrom\u001b[0m \u001b[0mhw5_library\u001b[0m\u001b[0;34m.\u001b[0m\u001b[0mhw5_functions\u001b[0m\u001b[0;34m.\u001b[0m\u001b[0msimplefuns\u001b[0m \u001b[0;32mimport\u001b[0m \u001b[0;34m*\u001b[0m \u001b[0;31m#contains  car_at_light, safe_subtract and read_data\u001b[0m\u001b[0;34m\u001b[0m\u001b[0;34m\u001b[0m\u001b[0m\n\u001b[0m\u001b[1;32m      2\u001b[0m \u001b[0;32mfrom\u001b[0m \u001b[0mhw5_library\u001b[0m\u001b[0;34m.\u001b[0m\u001b[0mhw5_functions\u001b[0m\u001b[0;34m.\u001b[0m\u001b[0mdictionaries\u001b[0m \u001b[0;32mimport\u001b[0m \u001b[0;34m*\u001b[0m \u001b[0;31m#contains retrieve_age_eafp2 and retrieve_age_lbyl\u001b[0m\u001b[0;34m\u001b[0m\u001b[0;34m\u001b[0m\u001b[0m\n\u001b[1;32m      3\u001b[0m \u001b[0;32mfrom\u001b[0m \u001b[0mhw5_library\u001b[0m\u001b[0;34m.\u001b[0m\u001b[0mhw5_functions\u001b[0m \u001b[0;32mimport\u001b[0m \u001b[0mlists\u001b[0m \u001b[0;32mas\u001b[0m \u001b[0mls\u001b[0m \u001b[0;31m# not importing all functions here, so will be called with lists.\u001b[0m\u001b[0;34m\u001b[0m\u001b[0;34m\u001b[0m\u001b[0m\n",
      "\u001b[0;31mModuleNotFoundError\u001b[0m: No module named 'hw5_library'"
     ]
    }
   ],
   "source": [
    "from hw5_library.hw5_functions.simplefuns import * #contains  car_at_light, safe_subtract and read_data\n",
    "from hw5_library.hw5_functions.dictionaries import * #contains retrieve_age_eafp2 and retrieve_age_lbyl\n",
    "from hw5_library.hw5_functions import lists as ls # not importing all functions here, so will be called with lists."
   ]
  },
  {
   "cell_type": "markdown",
   "metadata": {},
   "source": [
    "**Question 1)**\n",
    "Create a function called \"car_at_light\"\n",
    "It should take one parameter: \"light\" which gives the color of a traffic light.\n",
    "If the color is \"red\", the function should return \"stop\". If the color is \"green\", the function should return \"go\". If the color is \"yellow\" the function should return \"wait\". If the color is anything else, the function should raise an exception with the following message: \"Undefined instruction for color: <light>\" where <light> is the value of the parameter light."
   ]
  },
  {
   "cell_type": "code",
   "execution_count": 42,
   "metadata": {},
   "outputs": [
    {
     "name": "stdout",
     "output_type": "stream",
     "text": [
      "stop\n",
      "wait\n",
      "go\n",
      "Undefined instruction for color: silver\n"
     ]
    }
   ],
   "source": [
    "car_at_light(\"red\")\n",
    "car_at_light(\"yellow\")\n",
    "car_at_light(\"green\")\n",
    "car_at_light(\"silver\")"
   ]
  },
  {
   "cell_type": "markdown",
   "metadata": {},
   "source": [
    "**Question 2)** Create a function named \"safe_subtract\" that takes two parameters and returns the result of the second value subtracted from the first. If the values cannot be subtracted due to its type, it returns None. If there is any other reason why it fails show the problem."
   ]
  },
  {
   "cell_type": "code",
   "execution_count": 40,
   "metadata": {},
   "outputs": [
    {
     "name": "stdout",
     "output_type": "stream",
     "text": [
      "3\n",
      "None\n"
     ]
    },
    {
     "ename": "NameError",
     "evalue": "name 'a' is not defined",
     "output_type": "error",
     "traceback": [
      "\u001b[0;31m---------------------------------------------------------------------------\u001b[0m",
      "\u001b[0;31mNameError\u001b[0m                                 Traceback (most recent call last)",
      "\u001b[0;32m<ipython-input-40-f04b9a62a39d>\u001b[0m in \u001b[0;36m<module>\u001b[0;34m()\u001b[0m\n\u001b[1;32m      1\u001b[0m \u001b[0mprint\u001b[0m\u001b[0;34m(\u001b[0m\u001b[0msafe_subtract\u001b[0m\u001b[0;34m(\u001b[0m\u001b[0;36m5\u001b[0m\u001b[0;34m,\u001b[0m\u001b[0;36m2\u001b[0m\u001b[0;34m)\u001b[0m\u001b[0;34m)\u001b[0m\u001b[0;34m\u001b[0m\u001b[0;34m\u001b[0m\u001b[0m\n\u001b[1;32m      2\u001b[0m \u001b[0mprint\u001b[0m\u001b[0;34m(\u001b[0m\u001b[0msafe_subtract\u001b[0m\u001b[0;34m(\u001b[0m\u001b[0;36m5\u001b[0m\u001b[0;34m,\u001b[0m\u001b[0;34m\"2\"\u001b[0m\u001b[0;34m)\u001b[0m\u001b[0;34m)\u001b[0m\u001b[0;34m\u001b[0m\u001b[0;34m\u001b[0m\u001b[0m\n\u001b[0;32m----> 3\u001b[0;31m \u001b[0mprint\u001b[0m\u001b[0;34m(\u001b[0m\u001b[0msafe_subtract\u001b[0m\u001b[0;34m(\u001b[0m\u001b[0;36m5\u001b[0m\u001b[0;34m,\u001b[0m\u001b[0ma\u001b[0m\u001b[0;34m)\u001b[0m\u001b[0;34m)\u001b[0m\u001b[0;34m\u001b[0m\u001b[0;34m\u001b[0m\u001b[0m\n\u001b[0m",
      "\u001b[0;31mNameError\u001b[0m: name 'a' is not defined"
     ]
    }
   ],
   "source": [
    "print(safe_subtract(5,2))\n",
    "print(safe_subtract(5,\"2\"))\n",
    "print(safe_subtract(5,a))"
   ]
  },
  {
   "cell_type": "markdown",
   "metadata": {},
   "source": [
    "**Question 3)** Imagine you have a dictionary with the attributes of a person <br>\n",
    "{'name': 'John', 'last_name': 'Doe', 'birth': 1987} <br>\n",
    "{'name': 'Janet', 'last_name': 'Bird', 'gender': 'female'}\n",
    "\n",
    "Create two functions that returns the age of the person that handles both examples.\n",
    "Name the first function \"retrieve_age_eafp\" and follow EAFP\n",
    "Name the second function \"retrieve_age_lbyl\" and follow lbyl"
   ]
  },
  {
   "cell_type": "code",
   "execution_count": 44,
   "metadata": {},
   "outputs": [
    {
     "name": "stdout",
     "output_type": "stream",
     "text": [
      "35\n",
      "There is no key called birth in this dictionary\n",
      "The value under birth is not a float or an integer\n"
     ]
    }
   ],
   "source": [
    "dic1= {'name': 'John', 'last_name': 'Doe', 'birth': 1987}\n",
    "dic2= {'name': 'Janet', 'last_name': 'Bird', 'gender': 'female'}\n",
    "dic3= {'name': 'Janet', 'last_name': 'Bird', 'birth': '1984'}\n",
    "\n",
    "retrieve_age_lbyl(dic1)    \n",
    "retrieve_age_lbyl(dic2)\n",
    "retrieve_age_lbyl(dic3)"
   ]
  },
  {
   "cell_type": "code",
   "execution_count": 46,
   "metadata": {},
   "outputs": [
    {
     "name": "stdout",
     "output_type": "stream",
     "text": [
      "35\n",
      "There is no key called birth in this dictionary\n",
      "The value under birth is not a float or an integer\n"
     ]
    }
   ],
   "source": [
    "retrieve_age_eafp2(dic1)\n",
    "retrieve_age_eafp2(dic2)\n",
    "retrieve_age_eafp2(dic3)"
   ]
  },
  {
   "cell_type": "markdown",
   "metadata": {},
   "source": [
    "**Question 4)** Imagine you have a file named data.csv. <br>\n",
    "Create a function called \"read_data\" that reads the file making sure to use to handle the fact that it might not exist."
   ]
  },
  {
   "cell_type": "code",
   "execution_count": 49,
   "metadata": {},
   "outputs": [
    {
     "data": {
      "text/plain": [
       "'The file data.csv is not in the directory you have specified.'"
      ]
     },
     "execution_count": 49,
     "metadata": {},
     "output_type": "execute_result"
    }
   ],
   "source": [
    "#NB we had included the sample_diabetes_mellitus_data.csv in our working directory to check if it imports\n",
    "\n",
    "test1 = \"sample_diabetes_mellitus_data.csv\"\n",
    "test2 = \"data.csv\"\n",
    "\n",
    "read_data(test1)\n",
    "read_data(test2)"
   ]
  },
  {
   "cell_type": "markdown",
   "metadata": {},
   "source": [
    "**Question 5)** Squash some bugs! Find the possible logical errors (bugs) in the code blocks below. Comment in each of them which logical errors did you find and correct them."
   ]
  },
  {
   "cell_type": "code",
   "execution_count": 52,
   "metadata": {},
   "outputs": [
    {
     "data": {
      "text/plain": [
       "17"
      ]
     },
     "execution_count": 52,
     "metadata": {},
     "output_type": "execute_result"
    }
   ],
   "source": [
    "### (a)\n",
    "total_double_sum = 0\n",
    "for elem in [10, 5, 2]:\n",
    "    double = elem * 2\n",
    "    total_double_sum += elem\n",
    "\n",
    "total_double_sum"
   ]
  },
  {
   "cell_type": "code",
   "execution_count": 53,
   "metadata": {},
   "outputs": [
    {
     "data": {
      "text/plain": [
       "34"
      ]
     },
     "execution_count": 53,
     "metadata": {},
     "output_type": "execute_result"
    }
   ],
   "source": [
    "# comments on a:\n",
    "# returns 17, and indeed only the elements have been summed\n",
    "# presumably we want to double each element and find total, so 20+10+4=34\n",
    "# correction:\n",
    "total_double_sum2 = 0\n",
    "for elem in [10, 5, 2]:\n",
    "    double = elem * 2\n",
    "    total_double_sum2 += double\n",
    "total_double_sum2"
   ]
  },
  {
   "cell_type": "code",
   "execution_count": 54,
   "metadata": {},
   "outputs": [
    {
     "data": {
      "text/plain": [
       "'Groot_Groot'"
      ]
     },
     "execution_count": 54,
     "metadata": {},
     "output_type": "execute_result"
    }
   ],
   "source": [
    "### (b)\n",
    "strings = ''\n",
    "for string in ['I', 'am', 'Groot']:\n",
    "    strings = string+\"_\"+string\n",
    "\n",
    "strings"
   ]
  },
  {
   "cell_type": "code",
   "execution_count": 56,
   "metadata": {},
   "outputs": [
    {
     "data": {
      "text/plain": [
       "'I am Groot '"
      ]
     },
     "execution_count": 56,
     "metadata": {},
     "output_type": "execute_result"
    }
   ],
   "source": [
    "# comments on b:\n",
    "#returns 'Groot_Groot'\n",
    "#presumably the desired output is \"I am Groot\"?\n",
    "# correction:\n",
    "strings2 = ''\n",
    "for string in ['I', 'am', 'Groot']:\n",
    "    strings2 += string+\" \"\n",
    "strings2\n"
   ]
  },
  {
   "cell_type": "code",
   "execution_count": null,
   "metadata": {},
   "outputs": [],
   "source": [
    "### (c) Careful!\n",
    "j=10\n",
    "while j > 0:\n",
    "   j += 1"
   ]
  },
  {
   "cell_type": "code",
   "execution_count": 62,
   "metadata": {},
   "outputs": [
    {
     "data": {
      "text/plain": [
       "20"
      ]
     },
     "execution_count": 62,
     "metadata": {},
     "output_type": "execute_result"
    }
   ],
   "source": [
    "# comments on c: not tried to run, but this would keep running as j is always > 0\n",
    "# correction such that it stops when adding 1:\n",
    "\n",
    "k=10\n",
    "while k < 20:\n",
    "   k += 1        #equivalent:  k = k+1\n",
    "k"
   ]
  },
  {
   "cell_type": "code",
   "execution_count": 63,
   "metadata": {},
   "outputs": [
    {
     "data": {
      "text/plain": [
       "0"
      ]
     },
     "execution_count": 63,
     "metadata": {},
     "output_type": "execute_result"
    }
   ],
   "source": [
    "# correction such that it stops when subtracting 1:\n",
    "\n",
    "l=10\n",
    "while l > 0:\n",
    "   l -= 1        #equivalent:  l = l-1\n",
    "l"
   ]
  },
  {
   "cell_type": "code",
   "execution_count": 60,
   "metadata": {},
   "outputs": [
    {
     "data": {
      "text/plain": [
       "0"
      ]
     },
     "execution_count": 60,
     "metadata": {},
     "output_type": "execute_result"
    }
   ],
   "source": [
    "### (d)\n",
    "productory = 0\n",
    "for elem in [1, 5, 25]:\n",
    "    productory *= elem\n",
    "    \n",
    "productory"
   ]
  },
  {
   "cell_type": "code",
   "execution_count": 64,
   "metadata": {},
   "outputs": [
    {
     "data": {
      "text/plain": [
       "125"
      ]
     },
     "execution_count": 64,
     "metadata": {},
     "output_type": "execute_result"
    }
   ],
   "source": [
    "# comments on d:\n",
    "productory\n",
    "# returns 0 - presumably because it is first multiplying by productory, so 0\n",
    "# presumably what we want it a product of all numbers in the list: 1*5*25=125\n",
    "# correction:\n",
    "productory2 = 1\n",
    "for elem in [1, 5, 25]:\n",
    "    productory2 *= elem\n",
    "productory2"
   ]
  },
  {
   "cell_type": "markdown",
   "metadata": {},
   "source": [
    "### Try to use map and reduce in the next 3 exercises\n",
    "**Question 6)** Create a function called \"count_simba\" that counts the number of times that Simba appears in a list of strings. Example: <br>\n",
    "[\"Simba and Nala are lions.\", \"I laugh in the face of danger.\", \"Hakuna matata\", \"Timon, Pumba and Simba are friends, but Simba could eat the other two.\"] \n"
   ]
  },
  {
   "cell_type": "code",
   "execution_count": 85,
   "metadata": {},
   "outputs": [
    {
     "name": "stdout",
     "output_type": "stream",
     "text": [
      "3\n"
     ]
    },
    {
     "data": {
      "text/plain": [
       "3"
      ]
     },
     "execution_count": 85,
     "metadata": {},
     "output_type": "execute_result"
    }
   ],
   "source": [
    "list_strings= [\"Simba and Nala are lions.\",\n",
    "               \"I laugh in the face of danger.\",\n",
    "               \"Hakuna matata\", \"Timon, Pumba and Simba are friends, but Simba could eat the other two.\"] \n",
    "\n",
    "ls.simba_test\n",
    "\n",
    "print(ls.simba_count(list_strings))\n",
    "ls.simba_count(lists.simba_test)"
   ]
  },
  {
   "cell_type": "markdown",
   "metadata": {},
   "source": [
    "**Question7)** Create a function called \"get_day_month_year\" that takes a list of datetimes.date and returns a pandas dataframe, with 3 columns (day, month, year) in which each of the rows, is an element of the input list and has as value its day, month, and year."
   ]
  },
  {
   "cell_type": "code",
   "execution_count": 86,
   "metadata": {},
   "outputs": [
    {
     "name": "stdout",
     "output_type": "stream",
     "text": [
      "   day  month  year\n",
      "0   19     11  2022\n",
      "1   18     11  2022\n",
      "2   17     11  2022\n",
      "3   16     11  2022\n",
      "4   15     11  2022\n"
     ]
    },
    {
     "data": {
      "text/html": [
       "<div>\n",
       "<style scoped>\n",
       "    .dataframe tbody tr th:only-of-type {\n",
       "        vertical-align: middle;\n",
       "    }\n",
       "\n",
       "    .dataframe tbody tr th {\n",
       "        vertical-align: top;\n",
       "    }\n",
       "\n",
       "    .dataframe thead th {\n",
       "        text-align: right;\n",
       "    }\n",
       "</style>\n",
       "<table border=\"1\" class=\"dataframe\">\n",
       "  <thead>\n",
       "    <tr style=\"text-align: right;\">\n",
       "      <th></th>\n",
       "      <th>day</th>\n",
       "      <th>month</th>\n",
       "      <th>year</th>\n",
       "    </tr>\n",
       "  </thead>\n",
       "  <tbody>\n",
       "    <tr>\n",
       "      <th>0</th>\n",
       "      <td>19</td>\n",
       "      <td>11</td>\n",
       "      <td>2022</td>\n",
       "    </tr>\n",
       "    <tr>\n",
       "      <th>1</th>\n",
       "      <td>18</td>\n",
       "      <td>11</td>\n",
       "      <td>2022</td>\n",
       "    </tr>\n",
       "    <tr>\n",
       "      <th>2</th>\n",
       "      <td>17</td>\n",
       "      <td>11</td>\n",
       "      <td>2022</td>\n",
       "    </tr>\n",
       "    <tr>\n",
       "      <th>3</th>\n",
       "      <td>16</td>\n",
       "      <td>11</td>\n",
       "      <td>2022</td>\n",
       "    </tr>\n",
       "    <tr>\n",
       "      <th>4</th>\n",
       "      <td>15</td>\n",
       "      <td>11</td>\n",
       "      <td>2022</td>\n",
       "    </tr>\n",
       "  </tbody>\n",
       "</table>\n",
       "</div>"
      ],
      "text/plain": [
       "   day  month  year\n",
       "0   19     11  2022\n",
       "1   18     11  2022\n",
       "2   17     11  2022\n",
       "3   16     11  2022\n",
       "4   15     11  2022"
      ]
     },
     "execution_count": 86,
     "metadata": {},
     "output_type": "execute_result"
    }
   ],
   "source": [
    "example = [datetime.datetime.today() - datetime.timedelta(days=x) for x in range(5)]\n",
    "\n",
    "ls.test_get_month_data\n",
    "\n",
    "print(ls.get_day_month_year(example)) \n",
    "ls.get_day_month_year(lists.test_get_month_data)    "
   ]
  },
  {
   "cell_type": "code",
   "execution_count": null,
   "metadata": {},
   "outputs": [],
   "source": []
  },
  {
   "cell_type": "markdown",
   "metadata": {},
   "source": [
    "**Question 8)** Create a function called \"compute_distance\" that takes a list of tuple pairs with latitude and longitude coordinates and returns a list with the distance between the two pairs example input: [((41.23,23.5), (41.5, 23.4)), ((52.38, 20.1),(52.3, 17.8))] <br>\n",
    "HINT: You can use geopy.distance in order to compute the distance"
   ]
  },
  {
   "cell_type": "code",
   "execution_count": 87,
   "metadata": {},
   "outputs": [
    {
     "name": "stdout",
     "output_type": "stream",
     "text": [
      "[31.13186522205169, 157.00582786889402]\n"
     ]
    },
    {
     "data": {
      "text/plain": [
       "[31.13186522205169, 157.00582786889402]"
      ]
     },
     "execution_count": 87,
     "metadata": {},
     "output_type": "execute_result"
    }
   ],
   "source": [
    "input_example=[((41.23,23.5), (41.5, 23.4)), ((52.38, 20.1),(52.3, 17.8))]\n",
    "\n",
    "ls.test_compute_distance\n",
    "\n",
    "print(ls.compute_distance(input_example))\n",
    "ls.compute_distance(lists.test_compute_distance)"
   ]
  },
  {
   "cell_type": "markdown",
   "metadata": {},
   "source": [
    "**Question 9)** Consider a list that each element can be an integer or a list that contains integers or more lists with integers example: [[2], 4, 5, [1, [2], [3, 5, [7,8]], 10], 1]. \n",
    "\n",
    "Create a recursive function called \"sum_general_int_list\" that takes as input this type of list and returns the sum of all the integers within the lists for instance for list_1=[[2], 3, [[1,2],5]] the result should be 13."
   ]
  },
  {
   "cell_type": "code",
   "execution_count": 88,
   "metadata": {},
   "outputs": [
    {
     "name": "stdout",
     "output_type": "stream",
     "text": [
      "13\n"
     ]
    },
    {
     "data": {
      "text/plain": [
       "13"
      ]
     },
     "execution_count": 88,
     "metadata": {},
     "output_type": "execute_result"
    }
   ],
   "source": [
    "list_1=[[2], 3, [[1,2],5]]  \n",
    "\n",
    "ls.test_sum_general_int_list\n",
    "\n",
    "print(ls.sum_general_int_list(list_1))  \n",
    "ls.sum_general_int_list(ls.test_sum_general_int_list)"
   ]
  }
 ],
 "metadata": {
  "kernelspec": {
   "display_name": "Python 3",
   "language": "python",
   "name": "python3"
  },
  "language_info": {
   "codemirror_mode": {
    "name": "ipython",
    "version": 3
   },
   "file_extension": ".py",
   "mimetype": "text/x-python",
   "name": "python",
   "nbconvert_exporter": "python",
   "pygments_lexer": "ipython3",
   "version": "3.7.2"
  }
 },
 "nbformat": 4,
 "nbformat_minor": 2
}
